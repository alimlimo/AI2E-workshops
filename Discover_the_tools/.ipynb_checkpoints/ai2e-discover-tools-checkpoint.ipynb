{
 "cells": [
  {
   "cell_type": "markdown",
   "metadata": {
    "slideshow": {
     "slide_type": "slide"
    }
   },
   "source": [
    "<img src=\"../assets/images/Cover.png\" alt=\"Cover\" title=\"AI2E Cover\" />"
   ]
  },
  {
   "cell_type": "markdown",
   "metadata": {
    "slideshow": {
     "slide_type": "slide"
    }
   },
   "source": [
    "## AI2E - 1 - Discover the tools \n",
    "This is the first notebook of a serie of Machine learning workshops. To start our journey in the best way possible, we will get to know the tools we're going to work with : Anaconda, Jupyter Notebook. We will conclude this workshop by going through a small algerian dataset and getting to know interesting python packages that will help us explore the datasets and study them. \n",
    "\n",
    "### Content \n",
    "1. Python Cheat Sheet \n",
    "2. What is Anaconda ?  \n",
    "2. What is Jupyter Notebook ? How can I use it ? \n",
    "3. Welcome to NumPy \n",
    "4. Data exploration (Part 1) "
   ]
  },
  {
   "cell_type": "markdown",
   "metadata": {
    "slideshow": {
     "slide_type": "slide"
    }
   },
   "source": [
    "## 1. Python Cheat Sheet"
   ]
  },
  {
   "cell_type": "markdown",
   "metadata": {
    "colab_type": "text",
    "id": "bzBP5ITt08qg",
    "slideshow": {
     "slide_type": "subslide"
    }
   },
   "source": [
    "## Why is Python so popular ?\n",
    "\n",
    "- High-level programming language.\n",
    "- Python is a dynamically typed language: \n",
    "- Python Has Amazing Libraries.\n",
    "- IPython Notebooks for interactive data analysis modeling.\n",
    "- Extensively used in the industry.\n",
    "- Python Has a Healthy, Active and Supportive Community.\n",
    "- General purpose language ( not like R which is for statistics )."
   ]
  },
  {
   "cell_type": "markdown",
   "metadata": {
    "colab_type": "text",
    "id": "xP31swbFUrLF",
    "slideshow": {
     "slide_type": "subslide"
    }
   },
   "source": [
    "## Starting up with python\n",
    "<img width=\"450\" src=\"./images/meme.png\" />"
   ]
  },
  {
   "cell_type": "markdown",
   "metadata": {
    "colab_type": "text",
    "id": "8TqBeFCGXZcN",
    "slideshow": {
     "slide_type": "subslide"
    }
   },
   "source": [
    "Here are some links for some good resources to come back to when you need something:\n",
    "\n",
    "[The official python documentation.](https://docs.python.org/3/tutorial/)\n",
    "\n",
    "[W3schools.](https://www.w3schools.com/python/)\n",
    "\n",
    "[Tutorialspoint. ](https://www.tutorialspoint.com/python/index.htm)\n",
    "\n",
    "[French version of the official documentation.](https://docs.python.org/fr/3/tutorial/)\n",
    "\n",
    "[Udemy Complete Python Bootcamp](https://www.udemy.com/course/complete-python-bootcamp-expert-course/?ranMID=39197&ranEAID=hL3Qp0zRBOc&ranSiteID=hL3Qp0zRBOc-fnssxBCSMmAaP.PkqynMhQ&LSNPUBID=hL3Qp0zRBOc&fbclid=IwAR3jSGAf4u1YuWlvhlMT3Zja02Y3XLO6oy0JH3QKypoHhOYb5if9HIIVPnc&couponCode=134938CFC93B377ED09E)"
   ]
  },
  {
   "cell_type": "markdown",
   "metadata": {
    "colab_type": "text",
    "id": "gYT76n1V08qt",
    "slideshow": {
     "slide_type": "subslide"
    }
   },
   "source": [
    "#### Python data types\n",
    "Types of data commonly used in python are: Strings, numbers (integers, floats..), and booleans."
   ]
  },
  {
   "cell_type": "code",
   "execution_count": 3,
   "metadata": {
    "colab": {},
    "colab_type": "code",
    "id": "mbWcL50y08qw",
    "slideshow": {
     "slide_type": "subslide"
    }
   },
   "outputs": [],
   "source": [
    "\"\"\"\n",
    "notice how in python\n",
    "we don't have to declare the variable type\n",
    "\"\"\"\n",
    "name = \"Tom\"\n",
    "age = 25\n",
    "height= 1.98\n",
    "isMale = True "
   ]
  },
  {
   "cell_type": "markdown",
   "metadata": {
    "colab_type": "text",
    "id": "cpssh-_L08q0",
    "slideshow": {
     "slide_type": "subslide"
    }
   },
   "source": [
    "#### Python Structures "
   ]
  },
  {
   "cell_type": "markdown",
   "metadata": {
    "slideshow": {
     "slide_type": "subslide"
    }
   },
   "source": [
    "##### lists"
   ]
  },
  {
   "cell_type": "code",
   "execution_count": null,
   "metadata": {
    "colab": {},
    "colab_type": "code",
    "id": "ZA-2btbD08q2",
    "slideshow": {
     "slide_type": "subslide"
    }
   },
   "outputs": [],
   "source": [
    "libraries = [\"numpy\", \"pandas\", \"scipy\", \"matplotlib\"]\n",
    "print(libraries[0])\n",
    "#negative indexing \n",
    "print(libraries[-2])\n",
    "#iterating through a list python\n",
    "for lib in libraries:\n",
    "    print(lib)\n",
    "#lists are not immutable\n",
    "libraries[0]=\"openCV\"\n",
    "print(libraries)\n",
    "#length of a list\n",
    "print (len(libraries))\n",
    "if \"openCV\" in libraries:\n",
    "  print(\"Yes, 'openCV' is a python library \")\n",
    "#append elements\n",
    "libraries.append(\"numpy\")\n",
    "#remove an element\n",
    "libraries.remove(\"scipy\") # or thislist.pop() to remove last element \n",
    "#multiple types in one list\n",
    "randomList = [\"Tommy\", 25, True]\n",
    "print(randomList)\n",
    "#copy a list \n",
    "newlist = randomList.copy()\n",
    "print(newlist)\n",
    "print(newlist is randomList)\n",
    "#joining lists\n",
    "joined= randomList + libraries\n",
    "print(joined)"
   ]
  },
  {
   "cell_type": "markdown",
   "metadata": {
    "colab_type": "text",
    "id": "L-NAso_308q5",
    "slideshow": {
     "slide_type": "subslide"
    }
   },
   "source": [
    "##### Tuples"
   ]
  },
  {
   "cell_type": "code",
   "execution_count": null,
   "metadata": {
    "colab": {},
    "colab_type": "code",
    "id": "qxWUlANu08q7",
    "slideshow": {
     "slide_type": "subslide"
    }
   },
   "outputs": [],
   "source": [
    "coor = (4,5)\n",
    "print(coor[1])\n",
    "#coor[1]=2 this would cause an error\n",
    "#we could do this\n",
    "y = list(coor) #tuple->list\n",
    "y[1]=2\n",
    "coor = tuple(y)#list->tuple\n",
    "print(coor)\n",
    "#iterating \n",
    "for x in coor:\n",
    "    print(x)\n",
    "#onelem = (0) this would cause an error\n",
    "oneelem = (0,)\n",
    "#oneelem.append(2) unlike list you can't use append on tuples"
   ]
  },
  {
   "cell_type": "markdown",
   "metadata": {
    "slideshow": {
     "slide_type": "subslide"
    }
   },
   "source": [
    "##### Sets"
   ]
  },
  {
   "cell_type": "code",
   "execution_count": null,
   "metadata": {
    "slideshow": {
     "slide_type": "subslide"
    }
   },
   "outputs": [],
   "source": [
    "thisset = {\"ML\", \"DL\", \"CNN\"}\n",
    "#iterating\n",
    "for x in thisset:\n",
    "  print(x)\n",
    "#check if it's in a set useing \"in\"\n",
    "print(\"CNN\" in thisset)\n",
    "#add elemens to set\n",
    "thisset.add(\"RNN\")\n",
    "#or update() for multiple elements at the same time\n",
    "thisset.update([\"AI\", \"RL\"])\n",
    "#lengthof set\n",
    "print(len(thisset))\n",
    "#remove an element\n",
    "thisset.remove(\"CNN\")\n",
    "#joining two sets\n",
    "set1= {\"datascience\"}\n",
    "set2 = set1.union(thisset)\n",
    "print(set2)"
   ]
  },
  {
   "cell_type": "markdown",
   "metadata": {
    "colab_type": "text",
    "id": "lsxd78Rx08q9",
    "slideshow": {
     "slide_type": "subslide"
    }
   },
   "source": [
    "##### Dictionnaries:"
   ]
  },
  {
   "cell_type": "code",
   "execution_count": null,
   "metadata": {
    "colab": {},
    "colab_type": "code",
    "id": "IYqgt5QX08q-",
    "slideshow": {
     "slide_type": "subslide"
    }
   },
   "outputs": [],
   "source": [
    "client  = {\"id\": 156248,\"name\": \"LeBron James\", \"phoneType\": \"Iphone\"}\n",
    "print(client[\"name\"])\n",
    "#or\n",
    "print(client.get(\"name\"))\n",
    "for x in client: #x is a key in our dict\n",
    "  print(x)\n",
    "  print(client[x])\n",
    "#iterating trough values\n",
    "for x in client.values():\n",
    "  print(x)\n",
    "#iterate trough both at the same time\n",
    "for x, y in client.items():\n",
    "  print(x, y)\n",
    "if \"name\" in client:\n",
    "  print(\"Yes, 'name' is one of the keys in the client dictionary\")\n",
    "\n",
    "mydict = client.copy()\n",
    "print(mydict)\n",
    "mydict.update({\"rating\": 5})\n",
    "print(mydict)\n",
    "#We can combine lists with tuples and dictionnaries\n",
    "mix = [(4,5), (8,6), (9,5), {\"Jan\": \"January\"}]\n",
    "print(mix[3][\"Jan\"])"
   ]
  },
  {
   "cell_type": "markdown",
   "metadata": {
    "colab_type": "text",
    "id": "rtQLKrQk08rF",
    "slideshow": {
     "slide_type": "subslide"
    }
   },
   "source": [
    "#### Operators\n",
    "We can use arithmetic operations between two numbers:"
   ]
  },
  {
   "cell_type": "code",
   "execution_count": null,
   "metadata": {
    "colab": {},
    "colab_type": "code",
    "id": "tkHGEnHR08rF",
    "slideshow": {
     "slide_type": "subslide"
    }
   },
   "outputs": [],
   "source": [
    "a = 15; b = 2\n",
    "print(\"a + b = \" + str(a+b))\n",
    "print(\"a * b = \" + str(a*b))\n",
    "print(\"a - b = \" + str(a-b))\n",
    "print(\"a / b = \" + str(a/b))\n",
    "print(\"a % b = \" + str(a%b))\n",
    "print(\"a ^ b = \" + str(a**b))"
   ]
  },
  {
   "cell_type": "markdown",
   "metadata": {
    "colab_type": "text",
    "id": "SFLbwfnq08rJ",
    "slideshow": {
     "slide_type": "subslide"
    }
   },
   "source": [
    "Or any other operators like: \n",
    "\n",
    "1. Comparison ( ==, !=, >, <, >=, <=) \n",
    "2. Assignment (=, +=, -=, *=, /=, %=...)\n",
    "3. Bitwise (&, |, ^, ~,...)\n",
    "4. Logical (and, or, not)"
   ]
  },
  {
   "cell_type": "markdown",
   "metadata": {
    "colab_type": "text",
    "id": "o59yEx9H08rM",
    "slideshow": {
     "slide_type": "subslide"
    }
   },
   "source": [
    "#### Control Flow\n",
    "\n",
    "1. if statements:\n",
    "\n",
    "    if statment:\n",
    "        //code\n",
    "    else:\n",
    "        //more code"
   ]
  },
  {
   "cell_type": "code",
   "execution_count": null,
   "metadata": {
    "colab": {
     "base_uri": "https://localhost:8080/",
     "height": 34
    },
    "colab_type": "code",
    "id": "ozMTTNz208rM",
    "outputId": "7d2e02f4-277a-4bdc-bc06-ceadd1852dd0",
    "slideshow": {
     "slide_type": "subslide"
    }
   },
   "outputs": [],
   "source": [
    "if isMale:\n",
    "    print(\"it's a male.\")\n",
    "else:\n",
    "    print(\"it's not.\")"
   ]
  },
  {
   "cell_type": "markdown",
   "metadata": {
    "colab_type": "text",
    "id": "QkojHDoG08rQ",
    "slideshow": {
     "slide_type": "subslide"
    }
   },
   "source": [
    "2. for and while statements:"
   ]
  },
  {
   "cell_type": "code",
   "execution_count": null,
   "metadata": {
    "colab": {},
    "colab_type": "code",
    "id": "Ojv4LiK608rQ",
    "slideshow": {
     "slide_type": "subslide"
    }
   },
   "outputs": [],
   "source": [
    "for letter in name:\n",
    "    print(letter)"
   ]
  },
  {
   "cell_type": "code",
   "execution_count": null,
   "metadata": {
    "colab": {},
    "colab_type": "code",
    "id": "m12U0MNc08rT",
    "slideshow": {
     "slide_type": "subslide"
    }
   },
   "outputs": [],
   "source": [
    "for lib in libraries:\n",
    "    print(lib, len(lib))"
   ]
  },
  {
   "cell_type": "code",
   "execution_count": null,
   "metadata": {
    "colab": {},
    "colab_type": "code",
    "id": "4RIbNtnq08rW",
    "slideshow": {
     "slide_type": "subslide"
    }
   },
   "outputs": [],
   "source": [
    "for index in range(5):\n",
    "    print(index)"
   ]
  },
  {
   "cell_type": "code",
   "execution_count": null,
   "metadata": {
    "colab": {},
    "colab_type": "code",
    "id": "_HcGtsJe08rZ",
    "slideshow": {
     "slide_type": "subslide"
    }
   },
   "outputs": [],
   "source": [
    "index = 0\n",
    "while index < 5:\n",
    "    print(index)\n",
    "    index += 1"
   ]
  },
  {
   "cell_type": "markdown",
   "metadata": {
    "colab_type": "text",
    "id": "m9LjvA4M08re",
    "slideshow": {
     "slide_type": "subslide"
    }
   },
   "source": [
    "3. Break and continue statement:"
   ]
  },
  {
   "cell_type": "code",
   "execution_count": null,
   "metadata": {
    "colab": {},
    "colab_type": "code",
    "id": "qNFFcsRt08rf",
    "slideshow": {
     "slide_type": "subslide"
    }
   },
   "outputs": [],
   "source": [
    "for n in range(2, 10):\n",
    "    for x in range(2, n):\n",
    "         if n % x == 0:\n",
    "             print(n, 'equals', x, '*', n//x)\n",
    "             break\n",
    "    else:\n",
    "         # loop fell through without finding a factor\n",
    "        print(n, 'is a prime number')"
   ]
  },
  {
   "cell_type": "code",
   "execution_count": null,
   "metadata": {
    "colab": {},
    "colab_type": "code",
    "id": "VxN_eKjs08rh",
    "slideshow": {
     "slide_type": "subslide"
    }
   },
   "outputs": [],
   "source": [
    "for num in range(2, 10):\n",
    "    if num % 2 == 0:\n",
    "        print(\"Found an even number\", num)\n",
    "        continue\n",
    "    print(\"Found a number\", num)"
   ]
  },
  {
   "cell_type": "markdown",
   "metadata": {
    "colab_type": "text",
    "id": "JMqXiSjp08rj",
    "slideshow": {
     "slide_type": "subslide"
    }
   },
   "source": [
    "4. Defining Functions:"
   ]
  },
  {
   "cell_type": "code",
   "execution_count": null,
   "metadata": {
    "colab": {},
    "colab_type": "code",
    "id": "omRph1hS08rk",
    "slideshow": {
     "slide_type": "subslide"
    }
   },
   "outputs": [],
   "source": [
    "def greetings(name):\n",
    "    print(\"Hello \" + name)\n",
    "    \n",
    "def addition(x,y=5):\n",
    "    return x+y\n",
    "\n",
    "greetings(\"Afif\")\n",
    "print(addition(5))\n",
    "\n",
    "#lambda expressions\n",
    "x = lambda a, b :  a * b\n",
    "print(x(5,5))"
   ]
  },
  {
   "cell_type": "markdown",
   "metadata": {
    "colab_type": "text",
    "id": "9aBrr3Qm08ry",
    "slideshow": {
     "slide_type": "subslide"
    }
   },
   "source": [
    "5. Exceptions:"
   ]
  },
  {
   "cell_type": "code",
   "execution_count": null,
   "metadata": {
    "colab": {},
    "colab_type": "code",
    "id": "Tw6Fbuhi08rz",
    "slideshow": {
     "slide_type": "subslide"
    }
   },
   "outputs": [],
   "source": [
    "try:\n",
    "    f = open(\"python/data.json\", \"a\")\n",
    "    f.write(\"{},\")\n",
    "    f.close()\n",
    "except FileNotFoundError as err:\n",
    "    print(err)"
   ]
  },
  {
   "cell_type": "markdown",
   "metadata": {
    "colab_type": "text",
    "id": "yqTWGV3Z08r5",
    "slideshow": {
     "slide_type": "subslide"
    }
   },
   "source": [
    "### Classes:\n",
    "\n",
    "We use the key word \"class\" to define a class e.g:"
   ]
  },
  {
   "cell_type": "code",
   "execution_count": null,
   "metadata": {
    "colab": {},
    "colab_type": "code",
    "id": "ftBp4zij08r6",
    "slideshow": {
     "slide_type": "subslide"
    }
   },
   "outputs": [],
   "source": [
    "class Driver:\n",
    "    def __init__(self, name, car, rating):\n",
    "        self.name = name\n",
    "        self.car = car\n",
    "        self.rating = rating\n",
    "    def printName(self):\n",
    "        print(self.name)\n",
    "\n",
    "class Client:\n",
    "    def order_ride(self):\n",
    "        print(\"your ride is on the way\")\n",
    "\n",
    "    def rate_driver(self):\n",
    "        print(\"your rating has been submited\")\n",
    "\n",
    "Aymen = Driver(\"afif\", \"404\", 5)\n",
    "print(Aymen.name)\n",
    "Aymen.printName()"
   ]
  },
  {
   "cell_type": "markdown",
   "metadata": {
    "colab_type": "text",
    "id": "7NF3UV8O08sB",
    "slideshow": {
     "slide_type": "subslide"
    }
   },
   "source": [
    "For inheritance between two classes:"
   ]
  },
  {
   "cell_type": "code",
   "execution_count": null,
   "metadata": {
    "colab": {},
    "colab_type": "code",
    "id": "_ja0wpPo08sC",
    "slideshow": {
     "slide_type": "subslide"
    }
   },
   "outputs": [],
   "source": [
    "class VipClient(Client):\n",
    "\n",
    "    def order_cool_car(self):\n",
    "        print(\"your lambo is on the way\")\n",
    "\n",
    "\n",
    "    def order_helicopter(self):\n",
    "        print(\"your helicopter is coming to get you\")\n",
    "        \n",
    "        \n",
    "Aymen = VipClient()\n",
    "Aymen.order_cool_car()\n",
    "    "
   ]
  },
  {
   "cell_type": "markdown",
   "metadata": {
    "slideshow": {
     "slide_type": "subslide"
    }
   },
   "source": [
    "### Advanced python tricks\n",
    "check out this link for some [quirks](https://blog.brush.co.nz/2008/01/ten-python-quirkies/?fbclid=IwAR027Bkov7eNPtjzfDDlEsIgzaZkiCxVXm5sXXhtHAmA1AhApScNKGrp7Gk) things in python."
   ]
  },
  {
   "cell_type": "code",
   "execution_count": 4,
   "metadata": {
    "slideshow": {
     "slide_type": "subslide"
    }
   },
   "outputs": [
    {
     "name": "stdout",
     "output_type": "stream",
     "text": [
      "True\n"
     ]
    }
   ],
   "source": [
    "#chain comparisons\n",
    "x=5\n",
    "print(2<x<9)"
   ]
  },
  {
   "cell_type": "code",
   "execution_count": 5,
   "metadata": {},
   "outputs": [
    {
     "name": "stdout",
     "output_type": "stream",
     "text": [
      "True\n",
      "2\n"
     ]
    }
   ],
   "source": [
    "#booleans are weird :) \n",
    "a=True\n",
    "b=True\n",
    "print(a==b)\n",
    "print(a+b)\n"
   ]
  },
  {
   "cell_type": "code",
   "execution_count": 6,
   "metadata": {},
   "outputs": [
    {
     "name": "stdout",
     "output_type": "stream",
     "text": [
      "(1, 2, 3, 8)\n"
     ]
    }
   ],
   "source": [
    "#actually with tuples it's the comma that matters and not the parentheses\n",
    "x= 1,2,3,8\n",
    "print(x)"
   ]
  },
  {
   "cell_type": "markdown",
   "metadata": {
    "slideshow": {
     "slide_type": "slide"
    }
   },
   "source": [
    "## 2. What is Anaconda ? \n",
    "\n",
    "[Anaconda](https://www.anaconda.com/) is a distribution of packages built for data science. It comes with conda, a package and environment manager. You'll be using conda to create environments for isolating your projects that use different versions of Python and/or different packages. You'll also use it to install, uninstall, and update packages in your environments. Using Anaconda has made my life working with data much more pleasant. \n",
    "\n",
    "When working on different projects on the same computer you come across a pretty complicated issue where 2 projects use the same package but in 2 separate versions (For example Pytorch 0.4 VS Pytorch 1.0). One solution is to use [virtualenv](https://virtualenv.pypa.io/en/latest/). It lets you create two isolated Python environment for each project. \n",
    "Although virtualenv works even for data science projects, in this situation Anaconda is the way to go. It is specifically built for Data projects. "
   ]
  },
  {
   "cell_type": "markdown",
   "metadata": {
    "slideshow": {
     "slide_type": "subslide"
    }
   },
   "source": [
    "\n",
    "#### Install Anaconda/Miniconda \n",
    "\n",
    "**Download** the latest version of `miniconda` that matches your system.\n",
    "\n",
    "|        | Linux | Mac | Windows | \n",
    "|--------|-------|-----|---------|\n",
    "| 64-bit | [64-bit (bash installer)][lin64] | [64-bit (bash installer)][mac64] | [64-bit (exe installer)][win64]\n",
    "| 32-bit | [32-bit (bash installer)][lin32] |  | [32-bit (exe installer)][win32]\n",
    "\n",
    "[win64]: https://repo.continuum.io/miniconda/Miniconda3-latest-Windows-x86_64.exe\n",
    "[win32]: https://repo.continuum.io/miniconda/Miniconda3-latest-Windows-x86.exe\n",
    "[mac64]: https://repo.continuum.io/miniconda/Miniconda3-latest-MacOSX-x86_64.sh\n",
    "[lin64]: https://repo.continuum.io/miniconda/Miniconda3-latest-Linux-x86_64.sh\n",
    "[lin32]: https://repo.continuum.io/miniconda/Miniconda3-latest-Linux-x86.sh\n",
    "\n",
    "**Install** [miniconda](http://conda.pydata.org/miniconda.html) on your machine. Detailed instructions:\n",
    "\n",
    "- **Linux:** http://conda.pydata.org/docs/install/quick.html#linux-miniconda-install\n",
    "- **Mac:** http://conda.pydata.org/docs/install/quick.html#os-x-miniconda-install\n",
    "- **Windows:** http://conda.pydata.org/docs/install/quick.html#windows-miniconda-install"
   ]
  },
  {
   "cell_type": "markdown",
   "metadata": {
    "slideshow": {
     "slide_type": "subslide"
    }
   },
   "source": [
    "#### Create an environment\n",
    "It is very simple to create an environment using Conda. Here's the general structure of the create command with the most important options : \n",
    "\n",
    "``` conda create -n [NameofEnv] python=[version] [nameofPackage]=[version] --prefix [path\\to\\env\\directory]```\n",
    "\n",
    "By default, the environment created by conda resides in /Users/user-name/miniconda3/envs. "
   ]
  },
  {
   "cell_type": "markdown",
   "metadata": {
    "slideshow": {
     "slide_type": "subslide"
    }
   },
   "source": [
    "#### What is an environment.yml file ? \n",
    "An evironment.yml file is configuration file for your python environment created with Conda. It contains the name of the environment and the packages it contains.\n",
    "\n",
    "<img src=\"images/env.png\" width=\"60%\">\n",
    "\n",
    "    channels : from where we get these packages \n",
    "    \n",
    "You can create an environment from a configuration file as follow : \n",
    "```conda env create -f environment.yml``` \n",
    "\n",
    "It also recommended, to include the requirement.txt for your project for those who doesn't use Conda. \n",
    "(to get this file ``` pip freeze > requirements.txt ``` )"
   ]
  },
  {
   "cell_type": "markdown",
   "metadata": {
    "slideshow": {
     "slide_type": "subslide"
    }
   },
   "source": [
    "#### Install additional Packages \n",
    "#### Conda Revisions 👍 \n",
    "Conda not only helps you create isolated environment, but it keeps track of the packages installed. This allows you to rollback to another revision. \n",
    "\n",
    "<ins>Example : </ins>\n",
    "\n",
    "1. We create an environment names 'test' : ``` conda create -n test python=3 ```\n",
    "2. We activate the environment : ``` conda activate test ```\n",
    "3. We install numpy : ``` conda install numpy```\n",
    "4. We install pandas : ``` conda install pandas```\n",
    "5. The list of revisions is as follow : ```conda list --revisions``` \n",
    "\n",
    "We notice each revision with an id. If we want to get back to how packages were in rev 1, we simply call this command : ```conda install --revision 1``` \n",
    "\n",
    "We can also recheck the list of revisions to ensure the changes were made. "
   ]
  },
  {
   "cell_type": "markdown",
   "metadata": {
    "slideshow": {
     "slide_type": "subslide"
    }
   },
   "source": [
    "<img src=\"images/revisions.png\" align=\"center\" width=\"40%\">"
   ]
  },
  {
   "cell_type": "markdown",
   "metadata": {
    "slideshow": {
     "slide_type": "subslide"
    }
   },
   "source": [
    "#### Additional Information \n",
    "Conda documentation is super clear, we encourage you to use it whenever it is necessary : [https://docs.anaconda.com/](https://docs.anaconda.com/) \n",
    "\n",
    "You can check here a [cheat sheet](https://docs.conda.io/projects/conda/en/4.6.0/_downloads/52a95608c49671267e40c689e0bc00ca/conda-cheatsheet.pdf) gathering all the important commands you need to know. \n",
    "\n",
    "If your curiosity hasn’t been satisfied and you still want to know more about virtual environments, we highly recommend : \n",
    "* [Some Myths and Misconceptions about Conda](https://jakevdp.github.io/blog/2016/08/25/conda-myths-and-misconceptions/) 😛 \n",
    "* [Everything you need to know about Anaconda by DZone](https://dzone.com/articles/python-anaconda-tutorial-everything-you-need-to-kn) \n",
    "* Get to know the Anaconda Navigator with [this tutorial](https://linuxhint.com/anaconda-python-tutorial/)\n",
    "    "
   ]
  },
  {
   "cell_type": "markdown",
   "metadata": {
    "slideshow": {
     "slide_type": "slide"
    }
   },
   "source": [
    "## What is Jupyter Notebook ? \n",
    "\n",
    "A [Jupyter Notebook](https://jupyter.org/) is a web application that allows you to combine explanatory text, math equations, code, and visualizations all in one easily sharable document. The name Jupyter comes from the combination of Julia, Python, and R. If you're interested, here's a [list of available kernels](https://github.com/jupyter/jupyter/wiki/Jupyter-kernels).\n",
    "\n",
    "In these kinds of notebooks, when dealing with a data science project, you could download the data, run the code in the notebook, and repeat the analysis or the training as long as you want to in the order you need to. \n",
    "\n",
    "Notebooks have quickly become an essential tool when working with data. You'll find them being used for data cleaning and exploration, visualization, machine learning, and big data analysis. You can find in these repository a lot of examples with the different topics we're going to tackle in AI2E. \n",
    "\n",
    "\n",
    "Without notebooks, your projects will be divided in separate files that contains the documentation, the code and the visualizations. \n",
    "\n",
    "*You don't find it cool yet ? \n",
    "Notebooks are rendered automatically by GitHub !* 😀"
   ]
  },
  {
   "cell_type": "markdown",
   "metadata": {
    "slideshow": {
     "slide_type": "subslide"
    }
   },
   "source": [
    "\n",
    "Let's create an example notebook. \n",
    "1. Go to the directory where you want the notebook to be.\n",
    "2. Run the following command : ``` jupyter notebook ``` \n",
    "3. Click on New and choose a kernel (Python3 in our case) \n",
    "4. Create a cell --> Set the type to 'Code'\n",
    "5. add ``` print('Hello World') ``` to the cell \n",
    "6. Run the cell by using shift + Enter or click on the run button on the top. \n",
    "\n"
   ]
  },
  {
   "cell_type": "markdown",
   "metadata": {
    "slideshow": {
     "slide_type": "subslide"
    }
   },
   "source": [
    "#### More info ! 🤓\n",
    "\n",
    "* You'll often want to download it as an HTML file to share with others who aren't using Jupyter. Also, you can download the notebook as a normal Python file where all the code will run like normal. The Markdown and reST formats are great for using notebooks in blogs or documentation.\n",
    "\n",
    "* **Magic Keywords :**\n",
    "    * %timeit : helps timing your code.\n",
    "    * %matplotlib inline : helps show your visialization as a result of a cell run. \n",
    "    * %pdb : enable debugging in the notebook.\n",
    "    * [List of all magic keywords] (https://ipython.readthedocs.io/en/stable/interactive/magics.html) \n",
    "    \n",
    "Let's try the debugging! \n"
   ]
  },
  {
   "cell_type": "code",
   "execution_count": null,
   "metadata": {
    "slideshow": {
     "slide_type": "slide"
    }
   },
   "outputs": [],
   "source": [
    "%pdb"
   ]
  },
  {
   "cell_type": "code",
   "execution_count": null,
   "metadata": {
    "slideshow": {
     "slide_type": "fragment"
    }
   },
   "outputs": [],
   "source": [
    "i = 'ab'\n",
    "sum(i)"
   ]
  },
  {
   "cell_type": "markdown",
   "metadata": {
    "slideshow": {
     "slide_type": "subslide"
    }
   },
   "source": [
    "We used a jupyter notebook to create this slideshow ! 😁\n",
    "\n",
    "here's the command to create and launch your slideshows : \n",
    "\n",
    "```jupyter nbconvert notebook.ipynb --to slides --post serve ``` \n"
   ]
  },
  {
   "cell_type": "markdown",
   "metadata": {
    "slideshow": {
     "slide_type": "slide"
    }
   },
   "source": [
    "## Google Colaboratory \n",
    "\n",
    "**I want to follow the workshops but I can't download Anaconda or Jupyter notebook !** 🤔 \n",
    "\n",
    "Don't worry, Google is always here for you :p checkout [google colaboratory](https://colab.research.google.com/)"
   ]
  },
  {
   "cell_type": "markdown",
   "metadata": {
    "slideshow": {
     "slide_type": "slide"
    }
   },
   "source": [
    "Okey ! Now that we know the fundamental tools we're going to work with, let's discover some important data science packages and how to use them in a concrete example ! "
   ]
  }
 ],
 "metadata": {
  "celltoolbar": "Diaporama",
  "kernelspec": {
   "display_name": "Python 3",
   "language": "python",
   "name": "python3"
  },
  "language_info": {
   "codemirror_mode": {
    "name": "ipython",
    "version": 3
   },
   "file_extension": ".py",
   "mimetype": "text/x-python",
   "name": "python",
   "nbconvert_exporter": "python",
   "pygments_lexer": "ipython3",
   "version": "3.7.4"
  }
 },
 "nbformat": 4,
 "nbformat_minor": 4
}
