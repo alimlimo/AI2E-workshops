{
 "cells": [
  {
   "cell_type": "markdown",
   "metadata": {
    "slideshow": {
     "slide_type": "slide"
    }
   },
   "source": [
    "## AI2E - 1 - Data Exploration (Part 1) \n",
    "This is the first notebook of a serie of Machine learning workshops. To start our journey in the best way possible, we will get to know the tools we're going to work with : Anaconda, Jupyter Notebook. We will conclude this workshop by going through a small algerian dataset and getting to know interesting python packages that will help us explore the datasets and study them. \n",
    "\n",
    "### Content \n",
    "1. Python Cheat Sheet \n",
    "2. What is Anaconda ?  \n",
    "2. What is Jupyter Notebook ? How can I use it ? \n",
    "3. **Welcome to NumPy**\n",
    "4. **Data exploration (Part 1)**"
   ]
  },
  {
   "cell_type": "markdown",
   "metadata": {},
   "source": [
    "Machine learning involves a lot of matrix math, and it’s important for you to understand the basics before diving into building your own first model. \n",
    "\n",
    "This notebook provides a short refresher on matrix operation and how to deal with the data using two fundamental packages : NumPy and Pandas. \n",
    "\n",
    "[Numpy](https://numpy.org/) is a Python open-source library used in nearly every area of science and engineering.\n",
    "* It provides ndarray, a homogeneous n-dimensional array object, with methods to efficiently operate on it. \n",
    "* It is at the heart of many commonly used packages : Pandas, SciPy, Matplotlib, scikit-learn, scikit-image. "
   ]
  },
  {
   "cell_type": "code",
   "execution_count": 1,
   "metadata": {},
   "outputs": [
    {
     "name": "stdout",
     "output_type": "stream",
     "text": [
      "Requirement already satisfied: numpy in /home/hasus/anaconda3/lib/python3.7/site-packages (1.17.2)\n",
      "Requirement already satisfied: pandas in /home/hasus/anaconda3/lib/python3.7/site-packages (0.25.1)\n",
      "Requirement already satisfied: python-dateutil>=2.6.1 in /home/hasus/anaconda3/lib/python3.7/site-packages (from pandas) (2.8.0)\n",
      "Requirement already satisfied: pytz>=2017.2 in /home/hasus/anaconda3/lib/python3.7/site-packages (from pandas) (2019.3)\n",
      "Requirement already satisfied: numpy>=1.13.3 in /home/hasus/anaconda3/lib/python3.7/site-packages (from pandas) (1.17.2)\n",
      "Requirement already satisfied: six>=1.5 in /home/hasus/anaconda3/lib/python3.7/site-packages (from python-dateutil>=2.6.1->pandas) (1.12.0)\n"
     ]
    }
   ],
   "source": [
    "# If the following import doesn't recognize numpy or pandas ... oh yes we can even run commands :p  \n",
    "!pip install numpy\n",
    "!pip install pandas "
   ]
  },
  {
   "cell_type": "code",
   "execution_count": 2,
   "metadata": {},
   "outputs": [],
   "source": [
    "# \"as\" is used to give an alias (rather than use numpy.array() we will use np.array()) \n",
    "import numpy as np\n",
    "import pandas as pd"
   ]
  },
  {
   "cell_type": "markdown",
   "metadata": {},
   "source": [
    "  You can store any data types from :\n",
    "  * **Scalars** : single value. \n",
    "  * **Vectors** :\n",
    "      * Array of values. \n",
    "      * Can either vertical(column) or horizontal(row). \n",
    "      * Index starts at 0 \n",
    "  * **Matrices** : 2D Arrays.\n",
    "  * **Tensors**  : 2D Arrays x Depth."
   ]
  },
  {
   "cell_type": "code",
   "execution_count": 3,
   "metadata": {},
   "outputs": [],
   "source": [
    "a = np.array(3)                                                       # Scalar \n",
    "b = np.array([1,2,3, 4, 5, 6, 7, 8, 9])                               # Vector\n",
    "c = np.array([[1,2,3], [4,5,6], [7,8,9]])                             # Matrix\n",
    "d = np.array([[[[1],[2]],[[3],[4]],[[5],[6]]],[[[7],[8]],\\\n",
    "    [[9],[10]],[[11],[12]]],[[[13],[14]],[[15],[16]],[[17],[18]]]])   # Tensor "
   ]
  },
  {
   "cell_type": "code",
   "execution_count": 4,
   "metadata": {},
   "outputs": [
    {
     "name": "stdout",
     "output_type": "stream",
     "text": [
      "Scalar 0\n",
      "Vector 1\n",
      "Matrix 2\n",
      "Tensor 4\n"
     ]
    }
   ],
   "source": [
    "print('Scalar', a.ndim)\n",
    "print('Vector',b.ndim)\n",
    "print('Matrix',c.ndim)\n",
    "print('Tensor',d.ndim)"
   ]
  },
  {
   "cell_type": "code",
   "execution_count": 5,
   "metadata": {},
   "outputs": [
    {
     "name": "stdout",
     "output_type": "stream",
     "text": [
      "Scalar 1\n",
      "Vector 9\n",
      "Matrix 9\n",
      "Tensor 18\n"
     ]
    }
   ],
   "source": [
    "print('Scalar', a.size)\n",
    "print('Vector',b.size)\n",
    "print('Matrix',c.size)\n",
    "print('Tensor',d.size)"
   ]
  },
  {
   "cell_type": "code",
   "execution_count": 6,
   "metadata": {},
   "outputs": [
    {
     "name": "stdout",
     "output_type": "stream",
     "text": [
      "Scalar ()\n",
      "Vector (9,)\n",
      "Matrix (3, 3)\n",
      "Tensor (3, 3, 2, 1)\n"
     ]
    }
   ],
   "source": [
    "print('Scalar', a.shape)\n",
    "print('Vector',b.shape)\n",
    "print('Matrix',c.shape)\n",
    "print('Tensor',d.shape)"
   ]
  },
  {
   "cell_type": "code",
   "execution_count": 7,
   "metadata": {},
   "outputs": [
    {
     "data": {
      "text/plain": [
       "array(3)"
      ]
     },
     "execution_count": 7,
     "metadata": {},
     "output_type": "execute_result"
    }
   ],
   "source": [
    "a"
   ]
  },
  {
   "cell_type": "code",
   "execution_count": 8,
   "metadata": {},
   "outputs": [
    {
     "data": {
      "text/plain": [
       "5"
      ]
     },
     "execution_count": 8,
     "metadata": {},
     "output_type": "execute_result"
    }
   ],
   "source": [
    "a+2"
   ]
  },
  {
   "cell_type": "code",
   "execution_count": 9,
   "metadata": {},
   "outputs": [
    {
     "data": {
      "text/plain": [
       "(9,)"
      ]
     },
     "execution_count": 9,
     "metadata": {},
     "output_type": "execute_result"
    }
   ],
   "source": [
    "b.shape"
   ]
  },
  {
   "cell_type": "code",
   "execution_count": 10,
   "metadata": {},
   "outputs": [
    {
     "data": {
      "text/plain": [
       "2"
      ]
     },
     "execution_count": 10,
     "metadata": {},
     "output_type": "execute_result"
    }
   ],
   "source": [
    "b[1]"
   ]
  },
  {
   "cell_type": "markdown",
   "metadata": {},
   "source": [
    "#### Slicing ! "
   ]
  },
  {
   "cell_type": "code",
   "execution_count": 11,
   "metadata": {},
   "outputs": [
    {
     "data": {
      "text/plain": [
       "array([3, 4, 5])"
      ]
     },
     "execution_count": 11,
     "metadata": {},
     "output_type": "execute_result"
    }
   ],
   "source": [
    "# Get all the values of b from index 2 to 4 (included) [2, 4]\n",
    "# b[i:j] [i,j[\n",
    "b[2:5]"
   ]
  },
  {
   "cell_type": "code",
   "execution_count": 12,
   "metadata": {},
   "outputs": [],
   "source": [
    "# Question : Get all the values from index 3 till the end "
   ]
  },
  {
   "cell_type": "code",
   "execution_count": 13,
   "metadata": {},
   "outputs": [
    {
     "data": {
      "text/plain": [
       "9"
      ]
     },
     "execution_count": 13,
     "metadata": {},
     "output_type": "execute_result"
    }
   ],
   "source": [
    "# Last value in an array \n",
    "b[-1]"
   ]
  },
  {
   "cell_type": "code",
   "execution_count": 14,
   "metadata": {},
   "outputs": [
    {
     "data": {
      "text/plain": [
       "array([1, 2, 3, 4, 6, 7, 8, 9])"
      ]
     },
     "execution_count": 14,
     "metadata": {},
     "output_type": "execute_result"
    }
   ],
   "source": [
    "# Delete element in position 5 \n",
    "np.delete(b, 4)"
   ]
  },
  {
   "cell_type": "code",
   "execution_count": 15,
   "metadata": {},
   "outputs": [
    {
     "data": {
      "text/plain": [
       "array([ 1,  2,  3,  4,  5,  6,  7,  8,  9, 10])"
      ]
     },
     "execution_count": 15,
     "metadata": {},
     "output_type": "execute_result"
    }
   ],
   "source": [
    "# Add element to the array \n",
    "np.append(b,10)"
   ]
  },
  {
   "cell_type": "code",
   "execution_count": 16,
   "metadata": {},
   "outputs": [
    {
     "data": {
      "text/plain": [
       "array([[1, 2, 3]])"
      ]
     },
     "execution_count": 16,
     "metadata": {},
     "output_type": "execute_result"
    }
   ],
   "source": [
    "c[:1]"
   ]
  },
  {
   "cell_type": "code",
   "execution_count": 17,
   "metadata": {},
   "outputs": [],
   "source": [
    "# Question : Get all values of the second column c that are greater than 5 \n"
   ]
  },
  {
   "cell_type": "code",
   "execution_count": 18,
   "metadata": {},
   "outputs": [
    {
     "data": {
      "text/plain": [
       "array([6, 7, 8, 9])"
      ]
     },
     "execution_count": 18,
     "metadata": {},
     "output_type": "execute_result"
    }
   ],
   "source": [
    "# Get all  values of c that are > 5 \n",
    "c[c>5]"
   ]
  },
  {
   "cell_type": "code",
   "execution_count": 19,
   "metadata": {},
   "outputs": [
    {
     "data": {
      "text/plain": [
       "array([[False, False, False],\n",
       "       [False, False,  True],\n",
       "       [ True,  True,  True]])"
      ]
     },
     "execution_count": 19,
     "metadata": {},
     "output_type": "execute_result"
    }
   ],
   "source": [
    "# Logical operators & and | \n",
    "c>5"
   ]
  },
  {
   "cell_type": "code",
   "execution_count": 20,
   "metadata": {},
   "outputs": [
    {
     "data": {
      "text/plain": [
       "(array([1, 2, 2, 2]), array([2, 0, 1, 2]))"
      ]
     },
     "execution_count": 20,
     "metadata": {},
     "output_type": "execute_result"
    }
   ],
   "source": [
    "indexes = np.where(c>5)\n",
    "indexes"
   ]
  },
  {
   "cell_type": "code",
   "execution_count": 21,
   "metadata": {},
   "outputs": [],
   "source": [
    "# Question : Get All values of d that are between 4 and 8 "
   ]
  },
  {
   "cell_type": "code",
   "execution_count": 22,
   "metadata": {},
   "outputs": [
    {
     "data": {
      "text/plain": [
       "array([[1, 2, 3],\n",
       "       [4, 5, 6],\n",
       "       [7, 8, 9]])"
      ]
     },
     "execution_count": 22,
     "metadata": {},
     "output_type": "execute_result"
    }
   ],
   "source": [
    "# Reshape vector b to be like vector c \n",
    "b.reshape(3,3)"
   ]
  },
  {
   "cell_type": "code",
   "execution_count": 23,
   "metadata": {},
   "outputs": [
    {
     "data": {
      "text/plain": [
       "array([[1, 2, 3],\n",
       "       [4, 5, 6],\n",
       "       [7, 8, 9]])"
      ]
     },
     "execution_count": 23,
     "metadata": {},
     "output_type": "execute_result"
    }
   ],
   "source": [
    "c"
   ]
  },
  {
   "cell_type": "code",
   "execution_count": 24,
   "metadata": {},
   "outputs": [
    {
     "data": {
      "text/plain": [
       "array([1, 2, 3, 4, 5, 6, 7, 8, 9])"
      ]
     },
     "execution_count": 24,
     "metadata": {},
     "output_type": "execute_result"
    }
   ],
   "source": [
    "b"
   ]
  },
  {
   "cell_type": "markdown",
   "metadata": {},
   "source": [
    "**Create some special arrays**"
   ]
  },
  {
   "cell_type": "code",
   "execution_count": 25,
   "metadata": {},
   "outputs": [
    {
     "data": {
      "text/plain": [
       "array([0., 0.])"
      ]
     },
     "execution_count": 25,
     "metadata": {},
     "output_type": "execute_result"
    }
   ],
   "source": [
    "e = np.zeros(2)\n",
    "e"
   ]
  },
  {
   "cell_type": "code",
   "execution_count": 26,
   "metadata": {},
   "outputs": [
    {
     "name": "stdout",
     "output_type": "stream",
     "text": [
      "[1 1]\n",
      "[1. 1.]\n"
     ]
    }
   ],
   "source": [
    "f = np.ones(2 , dtype=int)\n",
    "g = np.ones(2 , dtype=float)\n",
    "print(f)\n",
    "print(g)"
   ]
  },
  {
   "cell_type": "code",
   "execution_count": 27,
   "metadata": {},
   "outputs": [
    {
     "data": {
      "text/plain": [
       "array([0, 1, 2, 3, 4, 5, 6, 7, 8, 9])"
      ]
     },
     "execution_count": 27,
     "metadata": {},
     "output_type": "execute_result"
    }
   ],
   "source": [
    "b = np.arange(10)\n",
    "b"
   ]
  },
  {
   "cell_type": "code",
   "execution_count": 28,
   "metadata": {},
   "outputs": [
    {
     "data": {
      "text/plain": [
       "array([ 0. ,  2.5,  5. ,  7.5, 10. ])"
      ]
     },
     "execution_count": 28,
     "metadata": {},
     "output_type": "execute_result"
    }
   ],
   "source": [
    "h = np.linspace(0,10,5)\n",
    "h"
   ]
  },
  {
   "cell_type": "markdown",
   "metadata": {},
   "source": [
    "**Array Operations**"
   ]
  },
  {
   "cell_type": "code",
   "execution_count": 29,
   "metadata": {},
   "outputs": [
    {
     "data": {
      "text/plain": [
       "array([0, 1, 2, 3, 4, 5, 6, 7, 8, 9])"
      ]
     },
     "execution_count": 29,
     "metadata": {},
     "output_type": "execute_result"
    }
   ],
   "source": [
    "b"
   ]
  },
  {
   "cell_type": "code",
   "execution_count": 30,
   "metadata": {},
   "outputs": [],
   "source": [
    "a = np.arange(10,20)"
   ]
  },
  {
   "cell_type": "code",
   "execution_count": 31,
   "metadata": {},
   "outputs": [
    {
     "data": {
      "text/plain": [
       "array([10, 12, 14, 16, 18, 20, 22, 24, 26, 28])"
      ]
     },
     "execution_count": 31,
     "metadata": {},
     "output_type": "execute_result"
    }
   ],
   "source": [
    "a+b"
   ]
  },
  {
   "cell_type": "code",
   "execution_count": 32,
   "metadata": {},
   "outputs": [
    {
     "data": {
      "text/plain": [
       "array([10, 10, 10, 10, 10, 10, 10, 10, 10, 10])"
      ]
     },
     "execution_count": 32,
     "metadata": {},
     "output_type": "execute_result"
    }
   ],
   "source": [
    "a-b"
   ]
  },
  {
   "cell_type": "code",
   "execution_count": 33,
   "metadata": {},
   "outputs": [
    {
     "data": {
      "text/plain": [
       "45"
      ]
     },
     "execution_count": 33,
     "metadata": {},
     "output_type": "execute_result"
    }
   ],
   "source": [
    "b.sum()"
   ]
  },
  {
   "cell_type": "code",
   "execution_count": 34,
   "metadata": {},
   "outputs": [
    {
     "data": {
      "text/plain": [
       "array([12, 15, 18])"
      ]
     },
     "execution_count": 34,
     "metadata": {},
     "output_type": "execute_result"
    }
   ],
   "source": [
    "c.sum(axis=0)"
   ]
  },
  {
   "cell_type": "markdown",
   "metadata": {},
   "source": [
    "**Broadcasting** "
   ]
  },
  {
   "cell_type": "code",
   "execution_count": 35,
   "metadata": {},
   "outputs": [
    {
     "data": {
      "text/plain": [
       "array([ 0, 10, 20, 30, 40, 50, 60, 70, 80, 90])"
      ]
     },
     "execution_count": 35,
     "metadata": {},
     "output_type": "execute_result"
    }
   ],
   "source": [
    "b * 10"
   ]
  },
  {
   "cell_type": "code",
   "execution_count": 36,
   "metadata": {},
   "outputs": [
    {
     "data": {
      "text/plain": [
       "array([[ 2,  4,  6],\n",
       "       [ 5,  7,  9],\n",
       "       [ 8, 10, 12]])"
      ]
     },
     "execution_count": 36,
     "metadata": {},
     "output_type": "execute_result"
    }
   ],
   "source": [
    "a = np.array([1,2,3])\n",
    "c + a "
   ]
  },
  {
   "cell_type": "markdown",
   "metadata": {},
   "source": [
    "NumPy also performs aggregation functions. In addition to min, max, and sum, you can easily run mean to get the average, prod to get the result of multiplying the elements together, std to get the standard deviation, and more.\n",
    "\n",
    "You will notice in the next session that these statistics are really important to study our datasets in the best way possible. "
   ]
  },
  {
   "cell_type": "code",
   "execution_count": 37,
   "metadata": {},
   "outputs": [
    {
     "data": {
      "text/plain": [
       "1"
      ]
     },
     "execution_count": 37,
     "metadata": {},
     "output_type": "execute_result"
    }
   ],
   "source": [
    "c.min()"
   ]
  },
  {
   "cell_type": "code",
   "execution_count": 38,
   "metadata": {},
   "outputs": [
    {
     "data": {
      "text/plain": [
       "array([1, 4, 7])"
      ]
     },
     "execution_count": 38,
     "metadata": {},
     "output_type": "execute_result"
    }
   ],
   "source": [
    "c.min(axis=1)"
   ]
  },
  {
   "cell_type": "code",
   "execution_count": 39,
   "metadata": {},
   "outputs": [
    {
     "data": {
      "text/plain": [
       "5.0"
      ]
     },
     "execution_count": 39,
     "metadata": {},
     "output_type": "execute_result"
    }
   ],
   "source": [
    "c.mean()"
   ]
  },
  {
   "cell_type": "markdown",
   "metadata": {},
   "source": [
    "This is a general overview of what we can do with NumPy. We encourage you to keep testing these methods and understand the slicing and broadcasting as these concepts are really important for the rest of our sessions. \n",
    "\n",
    "You can also check these resources to get more about NumPy: \n",
    "* The ultimate beginners guide to Numpy : https://towardsdatascience.com/the-ultimate-beginners-guide-to-numpy-f5a2f99aef54 \n",
    "* Data Analysis with Numpy : https://www.dataquest.io/blog/numpy-tutorial-python/"
   ]
  },
  {
   "cell_type": "markdown",
   "metadata": {},
   "source": [
    "## Let's play with Data ! 🎉🚀\n",
    "\n",
    "The dataset that we're going to work on is provided by an Algerian VTC Company. \n",
    "It includes variables about : \n",
    "* Address of departure\n",
    "* Address of arrival\n",
    "* Distance\n",
    "* Price \n",
    "* Date \n",
    "* ... \n",
    "\n",
    "We will explore the dataset using pandas. \n",
    "\n",
    "[Pandas](https://pandas.pydata.org/) is an open-source Python library providing high-performance, easy-to-use data structures and data analysis tools for the Python programming language. (If you're familiar with SQL you can think of pandas methods as an SQL request) \n",
    "\n",
    "We have two important components in pandas : \n",
    "* Series : is described as a column \n",
    "* DataFrame : is a multi-dimensional table made up of a collection of Series.\n"
   ]
  },
  {
   "cell_type": "code",
   "execution_count": 41,
   "metadata": {},
   "outputs": [],
   "source": [
    "# read a csv file\n",
    "data = pd.read_csv(\"dataset/vtc_data.csv\")"
   ]
  },
  {
   "cell_type": "code",
   "execution_count": 42,
   "metadata": {},
   "outputs": [
    {
     "data": {
      "text/html": [
       "<div>\n",
       "<style scoped>\n",
       "    .dataframe tbody tr th:only-of-type {\n",
       "        vertical-align: middle;\n",
       "    }\n",
       "\n",
       "    .dataframe tbody tr th {\n",
       "        vertical-align: top;\n",
       "    }\n",
       "\n",
       "    .dataframe thead th {\n",
       "        text-align: right;\n",
       "    }\n",
       "</style>\n",
       "<table border=\"1\" class=\"dataframe\">\n",
       "  <thead>\n",
       "    <tr style=\"text-align: right;\">\n",
       "      <th></th>\n",
       "      <th>travel_id</th>\n",
       "      <th>travel_type</th>\n",
       "      <th>car_type</th>\n",
       "      <th>driver_id</th>\n",
       "      <th>address_of_departure</th>\n",
       "      <th>arrival_address</th>\n",
       "      <th>lat_and_long_of_arrival_address</th>\n",
       "      <th>date_of_travel</th>\n",
       "      <th>time_of_travel</th>\n",
       "      <th>estimated_time</th>\n",
       "      <th>distance</th>\n",
       "      <th>options</th>\n",
       "      <th>state</th>\n",
       "      <th>price</th>\n",
       "    </tr>\n",
       "  </thead>\n",
       "  <tbody>\n",
       "    <tr>\n",
       "      <td>0</td>\n",
       "      <td>27550488</td>\n",
       "      <td>advance</td>\n",
       "      <td>Mini Citadine</td>\n",
       "      <td>NaN</td>\n",
       "      <td>AXA Assurances Algérie, Boulevard du 11 Decemb...</td>\n",
       "      <td>Clinique Krim Belkacem, Boulevard Colonel Krim...</td>\n",
       "      <td>36.770681600000003,3.0510609999999998</td>\n",
       "      <td>2019-09-29 23:55:00</td>\n",
       "      <td>23:55:00</td>\n",
       "      <td>13</td>\n",
       "      <td>6053.0</td>\n",
       "      <td>NaN</td>\n",
       "      <td>cancelled</td>\n",
       "      <td>0.0</td>\n",
       "    </tr>\n",
       "    <tr>\n",
       "      <td>1</td>\n",
       "      <td>28026204</td>\n",
       "      <td>live</td>\n",
       "      <td>Mini Citadine</td>\n",
       "      <td>43166.0</td>\n",
       "      <td>Unnamed Road Dar El Beïda</td>\n",
       "      <td>136 logements, bloc D، Route de Ouled Fayet Ch...</td>\n",
       "      <td>36.745614799999998,2.9428641</td>\n",
       "      <td>2019-09-29 23:54:36</td>\n",
       "      <td>23:54:00</td>\n",
       "      <td>33</td>\n",
       "      <td>31895.0</td>\n",
       "      <td>NaN</td>\n",
       "      <td>finished</td>\n",
       "      <td>133300.0</td>\n",
       "    </tr>\n",
       "    <tr>\n",
       "      <td>2</td>\n",
       "      <td>28026119</td>\n",
       "      <td>live</td>\n",
       "      <td>Mini Citadine</td>\n",
       "      <td>30759.0</td>\n",
       "      <td>Office Riadh El Feth ,bois des arcades ,El Mad...</td>\n",
       "      <td>79 Rue Fabri MARCELLO, Bir Mourad Raïs, 阿尔及利亚</td>\n",
       "      <td>36.736257999999999,3.0616660000000002</td>\n",
       "      <td>2019-09-29 23:54:27</td>\n",
       "      <td>23:54:00</td>\n",
       "      <td>7</td>\n",
       "      <td>3056.0</td>\n",
       "      <td>NaN</td>\n",
       "      <td>finished</td>\n",
       "      <td>32600.0</td>\n",
       "    </tr>\n",
       "    <tr>\n",
       "      <td>3</td>\n",
       "      <td>28025871</td>\n",
       "      <td>live</td>\n",
       "      <td>Mini Citadine</td>\n",
       "      <td>32536.0</td>\n",
       "      <td>N24 Bordj El Kiffan</td>\n",
       "      <td>Dar El Beïda, Algeria</td>\n",
       "      <td>36.727856899999999,3.2181302000000001</td>\n",
       "      <td>2019-09-29 23:47:25</td>\n",
       "      <td>23:47:00</td>\n",
       "      <td>7</td>\n",
       "      <td>6092.0</td>\n",
       "      <td>NaN</td>\n",
       "      <td>finished</td>\n",
       "      <td>38300.0</td>\n",
       "    </tr>\n",
       "    <tr>\n",
       "      <td>4</td>\n",
       "      <td>28026102</td>\n",
       "      <td>live</td>\n",
       "      <td>Mini Citadine</td>\n",
       "      <td>40592.0</td>\n",
       "      <td>Lily Rose, Hydra, Algeria</td>\n",
       "      <td>214 résidence، Bois des Cars 2, Deli Ibrahim, ...</td>\n",
       "      <td>36.753667999999998,2.9762750000000002</td>\n",
       "      <td>2019-09-29 23:46:35</td>\n",
       "      <td>23:46:00</td>\n",
       "      <td>11</td>\n",
       "      <td>6928.0</td>\n",
       "      <td>NaN</td>\n",
       "      <td>finished</td>\n",
       "      <td>47800.0</td>\n",
       "    </tr>\n",
       "  </tbody>\n",
       "</table>\n",
       "</div>"
      ],
      "text/plain": [
       "   travel_id travel_type       car_type  driver_id  \\\n",
       "0   27550488     advance  Mini Citadine        NaN   \n",
       "1   28026204        live  Mini Citadine    43166.0   \n",
       "2   28026119        live  Mini Citadine    30759.0   \n",
       "3   28025871        live  Mini Citadine    32536.0   \n",
       "4   28026102        live  Mini Citadine    40592.0   \n",
       "\n",
       "                                address_of_departure  \\\n",
       "0  AXA Assurances Algérie, Boulevard du 11 Decemb...   \n",
       "1                          Unnamed Road Dar El Beïda   \n",
       "2  Office Riadh El Feth ,bois des arcades ,El Mad...   \n",
       "3                                N24 Bordj El Kiffan   \n",
       "4                          Lily Rose, Hydra, Algeria   \n",
       "\n",
       "                                     arrival_address  \\\n",
       "0  Clinique Krim Belkacem, Boulevard Colonel Krim...   \n",
       "1  136 logements, bloc D، Route de Ouled Fayet Ch...   \n",
       "2      79 Rue Fabri MARCELLO, Bir Mourad Raïs, 阿尔及利亚   \n",
       "3                              Dar El Beïda, Algeria   \n",
       "4  214 résidence، Bois des Cars 2, Deli Ibrahim, ...   \n",
       "\n",
       "         lat_and_long_of_arrival_address       date_of_travel time_of_travel  \\\n",
       "0  36.770681600000003,3.0510609999999998  2019-09-29 23:55:00       23:55:00   \n",
       "1           36.745614799999998,2.9428641  2019-09-29 23:54:36       23:54:00   \n",
       "2  36.736257999999999,3.0616660000000002  2019-09-29 23:54:27       23:54:00   \n",
       "3  36.727856899999999,3.2181302000000001  2019-09-29 23:47:25       23:47:00   \n",
       "4  36.753667999999998,2.9762750000000002  2019-09-29 23:46:35       23:46:00   \n",
       "\n",
       "   estimated_time  distance options      state     price  \n",
       "0              13    6053.0     NaN  cancelled       0.0  \n",
       "1              33   31895.0     NaN   finished  133300.0  \n",
       "2               7    3056.0     NaN   finished   32600.0  \n",
       "3               7    6092.0     NaN   finished   38300.0  \n",
       "4              11    6928.0     NaN   finished   47800.0  "
      ]
     },
     "execution_count": 42,
     "metadata": {},
     "output_type": "execute_result"
    }
   ],
   "source": [
    "#print the first 5 rows \n",
    "data.head()"
   ]
  },
  {
   "cell_type": "code",
   "execution_count": 43,
   "metadata": {
    "scrolled": true
   },
   "outputs": [
    {
     "data": {
      "text/html": [
       "<div>\n",
       "<style scoped>\n",
       "    .dataframe tbody tr th:only-of-type {\n",
       "        vertical-align: middle;\n",
       "    }\n",
       "\n",
       "    .dataframe tbody tr th {\n",
       "        vertical-align: top;\n",
       "    }\n",
       "\n",
       "    .dataframe thead th {\n",
       "        text-align: right;\n",
       "    }\n",
       "</style>\n",
       "<table border=\"1\" class=\"dataframe\">\n",
       "  <thead>\n",
       "    <tr style=\"text-align: right;\">\n",
       "      <th></th>\n",
       "      <th>travel_id</th>\n",
       "      <th>travel_type</th>\n",
       "      <th>car_type</th>\n",
       "      <th>driver_id</th>\n",
       "      <th>address_of_departure</th>\n",
       "      <th>arrival_address</th>\n",
       "      <th>lat_and_long_of_arrival_address</th>\n",
       "      <th>date_of_travel</th>\n",
       "      <th>time_of_travel</th>\n",
       "      <th>estimated_time</th>\n",
       "      <th>distance</th>\n",
       "      <th>options</th>\n",
       "      <th>state</th>\n",
       "      <th>price</th>\n",
       "    </tr>\n",
       "  </thead>\n",
       "  <tbody>\n",
       "    <tr>\n",
       "      <td>65332</td>\n",
       "      <td>26076305</td>\n",
       "      <td>live</td>\n",
       "      <td>Mini Citadine</td>\n",
       "      <td>41170.0</td>\n",
       "      <td>Rue Ouahrani Abdelkader Oued Romane El Achour</td>\n",
       "      <td>Route AIN ALLAH Ain Allah Dely Ibrahim</td>\n",
       "      <td>36.753617400324998,2.9945344850420952</td>\n",
       "      <td>2019-08-26 18:36:56</td>\n",
       "      <td>18:36:00</td>\n",
       "      <td>8</td>\n",
       "      <td>2582.0</td>\n",
       "      <td>NaN</td>\n",
       "      <td>finished</td>\n",
       "      <td>27100.0</td>\n",
       "    </tr>\n",
       "    <tr>\n",
       "      <td>65333</td>\n",
       "      <td>26076433</td>\n",
       "      <td>live</td>\n",
       "      <td>Mini Citadine</td>\n",
       "      <td>34783.0</td>\n",
       "      <td>26 Boulevard Colonel Bougara, Alger Ctre 16000...</td>\n",
       "      <td>Bab Ezzouar, Algérie</td>\n",
       "      <td>36.712336899999997,3.1968659000000001</td>\n",
       "      <td>2019-08-26 18:36:37</td>\n",
       "      <td>18:36:00</td>\n",
       "      <td>21</td>\n",
       "      <td>18408.0</td>\n",
       "      <td>NaN</td>\n",
       "      <td>finished</td>\n",
       "      <td>69600.0</td>\n",
       "    </tr>\n",
       "    <tr>\n",
       "      <td>65334</td>\n",
       "      <td>26076033</td>\n",
       "      <td>live</td>\n",
       "      <td>Mini Citadine</td>\n",
       "      <td>39757.0</td>\n",
       "      <td>N1, Bir Mourad Raïs, Algérie</td>\n",
       "      <td>Hydra، Algérie</td>\n",
       "      <td>36.746026299999997,3.038882000000001</td>\n",
       "      <td>2019-08-26 18:35:57</td>\n",
       "      <td>18:35:00</td>\n",
       "      <td>7</td>\n",
       "      <td>2030.0</td>\n",
       "      <td>NaN</td>\n",
       "      <td>finished</td>\n",
       "      <td>24700.0</td>\n",
       "    </tr>\n",
       "  </tbody>\n",
       "</table>\n",
       "</div>"
      ],
      "text/plain": [
       "       travel_id travel_type       car_type  driver_id  \\\n",
       "65332   26076305        live  Mini Citadine    41170.0   \n",
       "65333   26076433        live  Mini Citadine    34783.0   \n",
       "65334   26076033        live  Mini Citadine    39757.0   \n",
       "\n",
       "                                    address_of_departure  \\\n",
       "65332      Rue Ouahrani Abdelkader Oued Romane El Achour   \n",
       "65333  26 Boulevard Colonel Bougara, Alger Ctre 16000...   \n",
       "65334                       N1, Bir Mourad Raïs, Algérie   \n",
       "\n",
       "                              arrival_address  \\\n",
       "65332  Route AIN ALLAH Ain Allah Dely Ibrahim   \n",
       "65333                    Bab Ezzouar, Algérie   \n",
       "65334                          Hydra، Algérie   \n",
       "\n",
       "             lat_and_long_of_arrival_address       date_of_travel  \\\n",
       "65332  36.753617400324998,2.9945344850420952  2019-08-26 18:36:56   \n",
       "65333  36.712336899999997,3.1968659000000001  2019-08-26 18:36:37   \n",
       "65334   36.746026299999997,3.038882000000001  2019-08-26 18:35:57   \n",
       "\n",
       "      time_of_travel  estimated_time  distance options     state    price  \n",
       "65332       18:36:00               8    2582.0     NaN  finished  27100.0  \n",
       "65333       18:36:00              21   18408.0     NaN  finished  69600.0  \n",
       "65334       18:35:00               7    2030.0     NaN  finished  24700.0  "
      ]
     },
     "execution_count": 43,
     "metadata": {},
     "output_type": "execute_result"
    }
   ],
   "source": [
    "#print the last 5 rows\n",
    "data.tail(3)"
   ]
  },
  {
   "cell_type": "code",
   "execution_count": 44,
   "metadata": {},
   "outputs": [
    {
     "data": {
      "text/plain": [
       "(65335, 14)"
      ]
     },
     "execution_count": 44,
     "metadata": {},
     "output_type": "execute_result"
    }
   ],
   "source": [
    "data.shape"
   ]
  },
  {
   "cell_type": "code",
   "execution_count": 45,
   "metadata": {},
   "outputs": [],
   "source": [
    "rows_number = data.shape[0]\n",
    "column_number = data.shape[1]"
   ]
  },
  {
   "cell_type": "code",
   "execution_count": 46,
   "metadata": {},
   "outputs": [
    {
     "data": {
      "text/plain": [
       "65335"
      ]
     },
     "execution_count": 46,
     "metadata": {},
     "output_type": "execute_result"
    }
   ],
   "source": [
    "rows_number"
   ]
  },
  {
   "cell_type": "code",
   "execution_count": 47,
   "metadata": {},
   "outputs": [
    {
     "data": {
      "text/plain": [
       "14"
      ]
     },
     "execution_count": 47,
     "metadata": {},
     "output_type": "execute_result"
    }
   ],
   "source": [
    "column_number"
   ]
  },
  {
   "cell_type": "code",
   "execution_count": 48,
   "metadata": {},
   "outputs": [
    {
     "data": {
      "text/plain": [
       "Index(['travel_id', 'travel_type', 'car_type', 'driver_id',\n",
       "       'address_of_departure', 'arrival_address',\n",
       "       'lat_and_long_of_arrival_address', 'date_of_travel', 'time_of_travel',\n",
       "       'estimated_time', 'distance', 'options', 'state', 'price'],\n",
       "      dtype='object')"
      ]
     },
     "execution_count": 48,
     "metadata": {},
     "output_type": "execute_result"
    }
   ],
   "source": [
    "# get all the column names \n",
    "data.columns"
   ]
  },
  {
   "cell_type": "code",
   "execution_count": 49,
   "metadata": {},
   "outputs": [
    {
     "name": "stdout",
     "output_type": "stream",
     "text": [
      "<class 'pandas.core.frame.DataFrame'>\n",
      "RangeIndex: 65335 entries, 0 to 65334\n",
      "Data columns (total 14 columns):\n",
      "travel_id                          65335 non-null int64\n",
      "travel_type                        65335 non-null object\n",
      "car_type                           65335 non-null object\n",
      "driver_id                          60229 non-null float64\n",
      "address_of_departure               65335 non-null object\n",
      "arrival_address                    65292 non-null object\n",
      "lat_and_long_of_arrival_address    65292 non-null object\n",
      "date_of_travel                     65335 non-null object\n",
      "time_of_travel                     65121 non-null object\n",
      "estimated_time                     65335 non-null int64\n",
      "distance                           65078 non-null float64\n",
      "options                            1152 non-null object\n",
      "state                              65335 non-null object\n",
      "price                              65121 non-null float64\n",
      "dtypes: float64(3), int64(2), object(9)\n",
      "memory usage: 7.0+ MB\n"
     ]
    }
   ],
   "source": [
    "data.info()"
   ]
  },
  {
   "cell_type": "code",
   "execution_count": 50,
   "metadata": {},
   "outputs": [
    {
     "data": {
      "text/plain": [
       "travel_id                                                                   28026204\n",
       "travel_type                                                                     live\n",
       "car_type                                                               Mini Citadine\n",
       "driver_id                                                                      43166\n",
       "address_of_departure                                       Unnamed Road Dar El Beïda\n",
       "arrival_address                    136 logements, bloc D، Route de Ouled Fayet Ch...\n",
       "lat_and_long_of_arrival_address                         36.745614799999998,2.9428641\n",
       "date_of_travel                                                   2019-09-29 23:54:36\n",
       "time_of_travel                                                              23:54:00\n",
       "estimated_time                                                                    33\n",
       "distance                                                                       31895\n",
       "options                                                                          NaN\n",
       "state                                                                       finished\n",
       "price                                                                         133300\n",
       "Name: 1, dtype: object"
      ]
     },
     "execution_count": 50,
     "metadata": {},
     "output_type": "execute_result"
    }
   ],
   "source": [
    "# Locate one travel by its index \n",
    "data.loc[1]"
   ]
  },
  {
   "cell_type": "code",
   "execution_count": 51,
   "metadata": {},
   "outputs": [
    {
     "data": {
      "text/html": [
       "<div>\n",
       "<style scoped>\n",
       "    .dataframe tbody tr th:only-of-type {\n",
       "        vertical-align: middle;\n",
       "    }\n",
       "\n",
       "    .dataframe tbody tr th {\n",
       "        vertical-align: top;\n",
       "    }\n",
       "\n",
       "    .dataframe thead th {\n",
       "        text-align: right;\n",
       "    }\n",
       "</style>\n",
       "<table border=\"1\" class=\"dataframe\">\n",
       "  <thead>\n",
       "    <tr style=\"text-align: right;\">\n",
       "      <th></th>\n",
       "      <th>travel_id</th>\n",
       "      <th>travel_type</th>\n",
       "      <th>car_type</th>\n",
       "      <th>driver_id</th>\n",
       "      <th>address_of_departure</th>\n",
       "      <th>arrival_address</th>\n",
       "      <th>lat_and_long_of_arrival_address</th>\n",
       "      <th>date_of_travel</th>\n",
       "      <th>time_of_travel</th>\n",
       "      <th>estimated_time</th>\n",
       "      <th>distance</th>\n",
       "      <th>options</th>\n",
       "      <th>state</th>\n",
       "      <th>price</th>\n",
       "    </tr>\n",
       "  </thead>\n",
       "  <tbody>\n",
       "    <tr>\n",
       "      <td>1</td>\n",
       "      <td>28026204</td>\n",
       "      <td>live</td>\n",
       "      <td>Mini Citadine</td>\n",
       "      <td>43166.0</td>\n",
       "      <td>Unnamed Road Dar El Beïda</td>\n",
       "      <td>136 logements, bloc D، Route de Ouled Fayet Ch...</td>\n",
       "      <td>36.745614799999998,2.9428641</td>\n",
       "      <td>2019-09-29 23:54:36</td>\n",
       "      <td>23:54:00</td>\n",
       "      <td>33</td>\n",
       "      <td>31895.0</td>\n",
       "      <td>NaN</td>\n",
       "      <td>finished</td>\n",
       "      <td>133300.0</td>\n",
       "    </tr>\n",
       "  </tbody>\n",
       "</table>\n",
       "</div>"
      ],
      "text/plain": [
       "   travel_id travel_type       car_type  driver_id       address_of_departure  \\\n",
       "1   28026204        live  Mini Citadine    43166.0  Unnamed Road Dar El Beïda   \n",
       "\n",
       "                                     arrival_address  \\\n",
       "1  136 logements, bloc D، Route de Ouled Fayet Ch...   \n",
       "\n",
       "  lat_and_long_of_arrival_address       date_of_travel time_of_travel  \\\n",
       "1    36.745614799999998,2.9428641  2019-09-29 23:54:36       23:54:00   \n",
       "\n",
       "   estimated_time  distance options     state     price  \n",
       "1              33   31895.0     NaN  finished  133300.0  "
      ]
     },
     "execution_count": 51,
     "metadata": {},
     "output_type": "execute_result"
    }
   ],
   "source": [
    "data.loc[data[\"travel_id\"] == 28026204 ]"
   ]
  },
  {
   "cell_type": "code",
   "execution_count": 52,
   "metadata": {},
   "outputs": [
    {
     "data": {
      "text/html": [
       "<div>\n",
       "<style scoped>\n",
       "    .dataframe tbody tr th:only-of-type {\n",
       "        vertical-align: middle;\n",
       "    }\n",
       "\n",
       "    .dataframe tbody tr th {\n",
       "        vertical-align: top;\n",
       "    }\n",
       "\n",
       "    .dataframe thead th {\n",
       "        text-align: right;\n",
       "    }\n",
       "</style>\n",
       "<table border=\"1\" class=\"dataframe\">\n",
       "  <thead>\n",
       "    <tr style=\"text-align: right;\">\n",
       "      <th></th>\n",
       "      <th>travel_id</th>\n",
       "      <th>travel_type</th>\n",
       "      <th>car_type</th>\n",
       "      <th>driver_id</th>\n",
       "      <th>address_of_departure</th>\n",
       "      <th>arrival_address</th>\n",
       "      <th>lat_and_long_of_arrival_address</th>\n",
       "      <th>date_of_travel</th>\n",
       "      <th>time_of_travel</th>\n",
       "      <th>estimated_time</th>\n",
       "      <th>distance</th>\n",
       "      <th>options</th>\n",
       "      <th>state</th>\n",
       "      <th>price</th>\n",
       "    </tr>\n",
       "  </thead>\n",
       "  <tbody>\n",
       "    <tr>\n",
       "      <td>1</td>\n",
       "      <td>28026204</td>\n",
       "      <td>live</td>\n",
       "      <td>Mini Citadine</td>\n",
       "      <td>43166.0</td>\n",
       "      <td>Unnamed Road Dar El Beïda</td>\n",
       "      <td>136 logements, bloc D، Route de Ouled Fayet Ch...</td>\n",
       "      <td>36.745614799999998,2.9428641</td>\n",
       "      <td>2019-09-29 23:54:36</td>\n",
       "      <td>23:54:00</td>\n",
       "      <td>33</td>\n",
       "      <td>31895.0</td>\n",
       "      <td>NaN</td>\n",
       "      <td>finished</td>\n",
       "      <td>133300.0</td>\n",
       "    </tr>\n",
       "    <tr>\n",
       "      <td>2</td>\n",
       "      <td>28026119</td>\n",
       "      <td>live</td>\n",
       "      <td>Mini Citadine</td>\n",
       "      <td>30759.0</td>\n",
       "      <td>Office Riadh El Feth ,bois des arcades ,El Mad...</td>\n",
       "      <td>79 Rue Fabri MARCELLO, Bir Mourad Raïs, 阿尔及利亚</td>\n",
       "      <td>36.736257999999999,3.0616660000000002</td>\n",
       "      <td>2019-09-29 23:54:27</td>\n",
       "      <td>23:54:00</td>\n",
       "      <td>7</td>\n",
       "      <td>3056.0</td>\n",
       "      <td>NaN</td>\n",
       "      <td>finished</td>\n",
       "      <td>32600.0</td>\n",
       "    </tr>\n",
       "    <tr>\n",
       "      <td>3</td>\n",
       "      <td>28025871</td>\n",
       "      <td>live</td>\n",
       "      <td>Mini Citadine</td>\n",
       "      <td>32536.0</td>\n",
       "      <td>N24 Bordj El Kiffan</td>\n",
       "      <td>Dar El Beïda, Algeria</td>\n",
       "      <td>36.727856899999999,3.2181302000000001</td>\n",
       "      <td>2019-09-29 23:47:25</td>\n",
       "      <td>23:47:00</td>\n",
       "      <td>7</td>\n",
       "      <td>6092.0</td>\n",
       "      <td>NaN</td>\n",
       "      <td>finished</td>\n",
       "      <td>38300.0</td>\n",
       "    </tr>\n",
       "    <tr>\n",
       "      <td>4</td>\n",
       "      <td>28026102</td>\n",
       "      <td>live</td>\n",
       "      <td>Mini Citadine</td>\n",
       "      <td>40592.0</td>\n",
       "      <td>Lily Rose, Hydra, Algeria</td>\n",
       "      <td>214 résidence، Bois des Cars 2, Deli Ibrahim, ...</td>\n",
       "      <td>36.753667999999998,2.9762750000000002</td>\n",
       "      <td>2019-09-29 23:46:35</td>\n",
       "      <td>23:46:00</td>\n",
       "      <td>11</td>\n",
       "      <td>6928.0</td>\n",
       "      <td>NaN</td>\n",
       "      <td>finished</td>\n",
       "      <td>47800.0</td>\n",
       "    </tr>\n",
       "    <tr>\n",
       "      <td>5</td>\n",
       "      <td>28025940</td>\n",
       "      <td>live</td>\n",
       "      <td>Mini Citadine</td>\n",
       "      <td>29567.0</td>\n",
       "      <td>18 lot bouchebouk, Dely Ibrahim, Algérie</td>\n",
       "      <td>2 piliers, Bouzareah, Algiers, Algérie</td>\n",
       "      <td>36.785158799999998,3.0112462</td>\n",
       "      <td>2019-09-29 23:44:27</td>\n",
       "      <td>23:44:00</td>\n",
       "      <td>13</td>\n",
       "      <td>7061.0</td>\n",
       "      <td>NaN</td>\n",
       "      <td>finished</td>\n",
       "      <td>45700.0</td>\n",
       "    </tr>\n",
       "    <tr>\n",
       "      <td>...</td>\n",
       "      <td>...</td>\n",
       "      <td>...</td>\n",
       "      <td>...</td>\n",
       "      <td>...</td>\n",
       "      <td>...</td>\n",
       "      <td>...</td>\n",
       "      <td>...</td>\n",
       "      <td>...</td>\n",
       "      <td>...</td>\n",
       "      <td>...</td>\n",
       "      <td>...</td>\n",
       "      <td>...</td>\n",
       "      <td>...</td>\n",
       "      <td>...</td>\n",
       "    </tr>\n",
       "    <tr>\n",
       "      <td>65330</td>\n",
       "      <td>26076425</td>\n",
       "      <td>live</td>\n",
       "      <td>Mini Citadine</td>\n",
       "      <td>42286.0</td>\n",
       "      <td>Rue Raoul PAYEN, Hydra, Algérie</td>\n",
       "      <td>Bordj El Bahri, Algérie</td>\n",
       "      <td>36.785442800000013,3.2643347999999999</td>\n",
       "      <td>2019-08-26 18:37:02</td>\n",
       "      <td>18:37:00</td>\n",
       "      <td>43</td>\n",
       "      <td>32420.0</td>\n",
       "      <td>NaN</td>\n",
       "      <td>finished</td>\n",
       "      <td>119400.0</td>\n",
       "    </tr>\n",
       "    <tr>\n",
       "      <td>65331</td>\n",
       "      <td>26076320</td>\n",
       "      <td>live</td>\n",
       "      <td>Mini Citadine</td>\n",
       "      <td>39729.0</td>\n",
       "      <td>Egeco, Algiers, Algérie</td>\n",
       "      <td>Chemin wilaya Nord 42 Kouba</td>\n",
       "      <td>36.718478645545801,3.09075839817524</td>\n",
       "      <td>2019-08-26 18:36:57</td>\n",
       "      <td>18:36:00</td>\n",
       "      <td>6</td>\n",
       "      <td>2444.0</td>\n",
       "      <td>NaN</td>\n",
       "      <td>operational_cancelled</td>\n",
       "      <td>0.0</td>\n",
       "    </tr>\n",
       "    <tr>\n",
       "      <td>65332</td>\n",
       "      <td>26076305</td>\n",
       "      <td>live</td>\n",
       "      <td>Mini Citadine</td>\n",
       "      <td>41170.0</td>\n",
       "      <td>Rue Ouahrani Abdelkader Oued Romane El Achour</td>\n",
       "      <td>Route AIN ALLAH Ain Allah Dely Ibrahim</td>\n",
       "      <td>36.753617400324998,2.9945344850420952</td>\n",
       "      <td>2019-08-26 18:36:56</td>\n",
       "      <td>18:36:00</td>\n",
       "      <td>8</td>\n",
       "      <td>2582.0</td>\n",
       "      <td>NaN</td>\n",
       "      <td>finished</td>\n",
       "      <td>27100.0</td>\n",
       "    </tr>\n",
       "    <tr>\n",
       "      <td>65333</td>\n",
       "      <td>26076433</td>\n",
       "      <td>live</td>\n",
       "      <td>Mini Citadine</td>\n",
       "      <td>34783.0</td>\n",
       "      <td>26 Boulevard Colonel Bougara, Alger Ctre 16000...</td>\n",
       "      <td>Bab Ezzouar, Algérie</td>\n",
       "      <td>36.712336899999997,3.1968659000000001</td>\n",
       "      <td>2019-08-26 18:36:37</td>\n",
       "      <td>18:36:00</td>\n",
       "      <td>21</td>\n",
       "      <td>18408.0</td>\n",
       "      <td>NaN</td>\n",
       "      <td>finished</td>\n",
       "      <td>69600.0</td>\n",
       "    </tr>\n",
       "    <tr>\n",
       "      <td>65334</td>\n",
       "      <td>26076033</td>\n",
       "      <td>live</td>\n",
       "      <td>Mini Citadine</td>\n",
       "      <td>39757.0</td>\n",
       "      <td>N1, Bir Mourad Raïs, Algérie</td>\n",
       "      <td>Hydra، Algérie</td>\n",
       "      <td>36.746026299999997,3.038882000000001</td>\n",
       "      <td>2019-08-26 18:35:57</td>\n",
       "      <td>18:35:00</td>\n",
       "      <td>7</td>\n",
       "      <td>2030.0</td>\n",
       "      <td>NaN</td>\n",
       "      <td>finished</td>\n",
       "      <td>24700.0</td>\n",
       "    </tr>\n",
       "  </tbody>\n",
       "</table>\n",
       "<p>53637 rows × 14 columns</p>\n",
       "</div>"
      ],
      "text/plain": [
       "       travel_id travel_type       car_type  driver_id  \\\n",
       "1       28026204        live  Mini Citadine    43166.0   \n",
       "2       28026119        live  Mini Citadine    30759.0   \n",
       "3       28025871        live  Mini Citadine    32536.0   \n",
       "4       28026102        live  Mini Citadine    40592.0   \n",
       "5       28025940        live  Mini Citadine    29567.0   \n",
       "...          ...         ...            ...        ...   \n",
       "65330   26076425        live  Mini Citadine    42286.0   \n",
       "65331   26076320        live  Mini Citadine    39729.0   \n",
       "65332   26076305        live  Mini Citadine    41170.0   \n",
       "65333   26076433        live  Mini Citadine    34783.0   \n",
       "65334   26076033        live  Mini Citadine    39757.0   \n",
       "\n",
       "                                    address_of_departure  \\\n",
       "1                              Unnamed Road Dar El Beïda   \n",
       "2      Office Riadh El Feth ,bois des arcades ,El Mad...   \n",
       "3                                    N24 Bordj El Kiffan   \n",
       "4                              Lily Rose, Hydra, Algeria   \n",
       "5               18 lot bouchebouk, Dely Ibrahim, Algérie   \n",
       "...                                                  ...   \n",
       "65330                    Rue Raoul PAYEN, Hydra, Algérie   \n",
       "65331                            Egeco, Algiers, Algérie   \n",
       "65332      Rue Ouahrani Abdelkader Oued Romane El Achour   \n",
       "65333  26 Boulevard Colonel Bougara, Alger Ctre 16000...   \n",
       "65334                       N1, Bir Mourad Raïs, Algérie   \n",
       "\n",
       "                                         arrival_address  \\\n",
       "1      136 logements, bloc D، Route de Ouled Fayet Ch...   \n",
       "2          79 Rue Fabri MARCELLO, Bir Mourad Raïs, 阿尔及利亚   \n",
       "3                                  Dar El Beïda, Algeria   \n",
       "4      214 résidence، Bois des Cars 2, Deli Ibrahim, ...   \n",
       "5                 2 piliers, Bouzareah, Algiers, Algérie   \n",
       "...                                                  ...   \n",
       "65330                            Bordj El Bahri, Algérie   \n",
       "65331                        Chemin wilaya Nord 42 Kouba   \n",
       "65332             Route AIN ALLAH Ain Allah Dely Ibrahim   \n",
       "65333                               Bab Ezzouar, Algérie   \n",
       "65334                                     Hydra، Algérie   \n",
       "\n",
       "             lat_and_long_of_arrival_address       date_of_travel  \\\n",
       "1               36.745614799999998,2.9428641  2019-09-29 23:54:36   \n",
       "2      36.736257999999999,3.0616660000000002  2019-09-29 23:54:27   \n",
       "3      36.727856899999999,3.2181302000000001  2019-09-29 23:47:25   \n",
       "4      36.753667999999998,2.9762750000000002  2019-09-29 23:46:35   \n",
       "5               36.785158799999998,3.0112462  2019-09-29 23:44:27   \n",
       "...                                      ...                  ...   \n",
       "65330  36.785442800000013,3.2643347999999999  2019-08-26 18:37:02   \n",
       "65331    36.718478645545801,3.09075839817524  2019-08-26 18:36:57   \n",
       "65332  36.753617400324998,2.9945344850420952  2019-08-26 18:36:56   \n",
       "65333  36.712336899999997,3.1968659000000001  2019-08-26 18:36:37   \n",
       "65334   36.746026299999997,3.038882000000001  2019-08-26 18:35:57   \n",
       "\n",
       "      time_of_travel  estimated_time  distance options                  state  \\\n",
       "1           23:54:00              33   31895.0     NaN               finished   \n",
       "2           23:54:00               7    3056.0     NaN               finished   \n",
       "3           23:47:00               7    6092.0     NaN               finished   \n",
       "4           23:46:00              11    6928.0     NaN               finished   \n",
       "5           23:44:00              13    7061.0     NaN               finished   \n",
       "...              ...             ...       ...     ...                    ...   \n",
       "65330       18:37:00              43   32420.0     NaN               finished   \n",
       "65331       18:36:00               6    2444.0     NaN  operational_cancelled   \n",
       "65332       18:36:00               8    2582.0     NaN               finished   \n",
       "65333       18:36:00              21   18408.0     NaN               finished   \n",
       "65334       18:35:00               7    2030.0     NaN               finished   \n",
       "\n",
       "          price  \n",
       "1      133300.0  \n",
       "2       32600.0  \n",
       "3       38300.0  \n",
       "4       47800.0  \n",
       "5       45700.0  \n",
       "...         ...  \n",
       "65330  119400.0  \n",
       "65331       0.0  \n",
       "65332   27100.0  \n",
       "65333   69600.0  \n",
       "65334   24700.0  \n",
       "\n",
       "[53637 rows x 14 columns]"
      ]
     },
     "execution_count": 52,
     "metadata": {},
     "output_type": "execute_result"
    }
   ],
   "source": [
    "data.loc[data[\"travel_type\"] == \"live\"]"
   ]
  },
  {
   "cell_type": "code",
   "execution_count": 53,
   "metadata": {},
   "outputs": [
    {
     "data": {
      "text/plain": [
       "0        advance\n",
       "1           live\n",
       "2           live\n",
       "3           live\n",
       "4           live\n",
       "          ...   \n",
       "65330       live\n",
       "65331       live\n",
       "65332       live\n",
       "65333       live\n",
       "65334       live\n",
       "Name: travel_type, Length: 65335, dtype: object"
      ]
     },
     "execution_count": 53,
     "metadata": {},
     "output_type": "execute_result"
    }
   ],
   "source": [
    "# Get the list of one column \n",
    "data[\"travel_type\"]"
   ]
  },
  {
   "cell_type": "code",
   "execution_count": 54,
   "metadata": {},
   "outputs": [
    {
     "data": {
      "text/plain": [
       "array(['advance', 'live', 'Personal'], dtype=object)"
      ]
     },
     "execution_count": 54,
     "metadata": {},
     "output_type": "execute_result"
    }
   ],
   "source": [
    "# What are the different possible values of travel_type ?\n",
    "data[\"travel_type\"].unique()"
   ]
  },
  {
   "cell_type": "code",
   "execution_count": 55,
   "metadata": {},
   "outputs": [
    {
     "data": {
      "text/plain": [
       "travel_type\n",
       "Personal      214\n",
       "advance     11484\n",
       "live        53637\n",
       "dtype: int64"
      ]
     },
     "execution_count": 55,
     "metadata": {},
     "output_type": "execute_result"
    }
   ],
   "source": [
    "# How many travel rows do we have for each type ?\n",
    "data.groupby(\"travel_type\").size()"
   ]
  },
  {
   "cell_type": "code",
   "execution_count": 56,
   "metadata": {},
   "outputs": [
    {
     "data": {
      "text/plain": [
       "live        53637\n",
       "advance     11484\n",
       "Personal      214\n",
       "Name: travel_type, dtype: int64"
      ]
     },
     "execution_count": 56,
     "metadata": {},
     "output_type": "execute_result"
    }
   ],
   "source": [
    "# How many travel rows do we have for each type ?\n",
    "data['travel_type'].value_counts()"
   ]
  },
  {
   "cell_type": "code",
   "execution_count": 57,
   "metadata": {},
   "outputs": [],
   "source": [
    "# Question : What are the different possible values of car_type ?"
   ]
  },
  {
   "cell_type": "code",
   "execution_count": 58,
   "metadata": {},
   "outputs": [],
   "source": [
    "# Question : How many travel rows do we have for each type and each car_type ? "
   ]
  },
  {
   "cell_type": "markdown",
   "metadata": {},
   "source": [
    "##  Conclusion & Keypoints\n",
    "\n",
    "* Anaconda is a package and environment manager. \n",
    "* Working with environment keeps your projects organized and avoid version issues. \n",
    "* Jupyter notebook allows us to bring together the code, documentation and visualizations in one document. \n",
    "* Behind all machine learning algorithm is a bunch of matrix operations. \n",
    "* NumPy is very important package that provides a fast and efficient array structure (ndarrays).\n",
    "* NumPy arrays offer the ability to use slicing, broadcasting and aggregate important statistical operations.\n",
    "* Pandas help us read our data in an SQL-like manner \n",
    "* With pandas, we can explore our data row by row, column by column. \n",
    "\n",
    "In the next session, we will continue exploring the vtc dataset. We will understand why the statistical operations are important in machine learning and discover another package *matplotlib* that will help visualize different aspects of the data. "
   ]
  }
 ],
 "metadata": {
  "kernelspec": {
   "display_name": "Python 3",
   "language": "python",
   "name": "python3"
  },
  "language_info": {
   "codemirror_mode": {
    "name": "ipython",
    "version": 3
   },
   "file_extension": ".py",
   "mimetype": "text/x-python",
   "name": "python",
   "nbconvert_exporter": "python",
   "pygments_lexer": "ipython3",
   "version": "3.7.4"
  }
 },
 "nbformat": 4,
 "nbformat_minor": 4
}
