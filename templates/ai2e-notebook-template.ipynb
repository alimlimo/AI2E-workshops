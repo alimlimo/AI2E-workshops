{
 "cells": [
  {
   "cell_type": "markdown",
   "metadata": {},
   "source": [
    "<img src=\"../assets/images/Cover.png\" alt=\"Cover\" title=\"AI2E Cover\" />"
   ]
  },
  {
   "cell_type": "markdown",
   "metadata": {},
   "source": [
    "## AI2E - [Workshop Number] - [Workshop Title] \n",
    "\n",
    "Description and motivation of this workshop. \n",
    "\n",
    "### Content \n",
    "1. Concept 1 \n",
    "2. Concept 2 \n",
    "...\n",
    "\n",
    "\n",
    "### Rules [This part should be removed] \n",
    "1. All workshop contents should respect this template. \n",
    "2. Each concept should be described textually + code. \n",
    "3. Any used image should be pushed in a directory : workshop/images \n",
    "4. After each concept, ask a question and let a blank text cell after it. This question should be asked during the online workshop to the attendees. \n",
    "5. If the workshop requires a long time training, please push the saved model. \n",
    "6. While doing the workshop, do not read the notebook but explain it =) \n",
    "7. All Imports should be on the top code cell. \n",
    "8. Comment all sections when you feel it is necessary. \n",
    "9. If you plan a challenge after the workshop, create a separate notebook for it. \n",
    "10. If you need slides, please use this template : \n",
    "https://docs.google.com/presentation/d/17jHILo2du9uHkFuiurXx6pE511apEbC7h5YncV0hihI/edit?usp=sharing"
   ]
  },
  {
   "cell_type": "code",
   "execution_count": null,
   "metadata": {},
   "outputs": [],
   "source": [
    "# imports"
   ]
  },
  {
   "cell_type": "markdown",
   "metadata": {},
   "source": [
    "### Conclusion \n",
    "Summarize your notebook. Reiterate the lesson and important takeaways. \n",
    "\n",
    "In the next, ..."
   ]
  }
 ],
 "metadata": {
  "kernelspec": {
   "display_name": "Python 3",
   "language": "python",
   "name": "python3"
  },
  "language_info": {
   "codemirror_mode": {
    "name": "ipython",
    "version": 3
   },
   "file_extension": ".py",
   "mimetype": "text/x-python",
   "name": "python",
   "nbconvert_exporter": "python",
   "pygments_lexer": "ipython3",
   "version": "3.7.7"
  }
 },
 "nbformat": 4,
 "nbformat_minor": 4
}
